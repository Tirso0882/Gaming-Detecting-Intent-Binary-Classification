{
 "cells": [
  {
   "cell_type": "markdown",
   "metadata": {},
   "source": [
    "# Gaming Intent Detection: Model Training and Evaluation\n",
    "\n",
    "This notebook demonstrates the process of training and evaluating a DistilBERT-based model for detecting gaming-related intent in user text inputs."
   ]
  },
  {
   "cell_type": "code",
   "execution_count": null,
   "metadata": {},
   "outputs": [],
   "source": [
    "!pip install ipywidgets"
   ]
  },
  {
   "cell_type": "code",
   "execution_count": 33,
   "metadata": {},
   "outputs": [],
   "source": [
    "import os \n",
    "import sys\n",
    "sys.path.append('../')\n",
    "\n",
    "import inspect\n",
    "import numpy as np\n",
    "import matplotlib.pyplot as plt\n",
    "import pandas as pd\n",
    "import seaborn as sn\n",
    "import time\n",
    "import torch\n",
    "import torch.nn as nn\n",
    "import torch.optim as optim\n",
    "\n",
    "from sklearn.model_selection import train_test_split\n",
    "from sklearn.metrics import accuracy_score, precision_recall_fscore_support, confusion_matrix\n",
    "from torch.utils.data import Dataset, DataLoader\n",
    "from tqdm.notebook import tqdm\n",
    "from transformers import DistilBertTokenizer, DistilBertModel\n",
    "\n",
    "from src.data_preprocessing import load_and_preprocess_data, create_data_loaders, get_class_weights\n",
    "from src.inference import GamingIntentPredictor\n",
    "from src.model import GamingIntentClassifier, initialize_model\n",
    "from src.train import train_model, evaluate, plot_training_history, plot_confusion_matrix"
   ]
  },
  {
   "cell_type": "code",
   "execution_count": 34,
   "metadata": {},
   "outputs": [
    {
     "name": "stdout",
     "output_type": "stream",
     "text": [
      "Using Apple Silicon MPS device: mps\n",
      "PyTorch version: 2.6.0\n",
      "Device: mps\n"
     ]
    }
   ],
   "source": [
    "SEED = 42\n",
    "torch.manual_seed(SEED)\n",
    "np.random.seed(SEED)\n",
    "\n",
    "# Check if MPS is available for MacBook Pro M3 Pro\n",
    "if torch.backends.mps.is_available():\n",
    "    device = torch.device(\"mps\")\n",
    "    print(f\"Using Apple Silicon MPS device: {device}\")\n",
    "elif torch.cuda.is_available():\n",
    "    device = torch.device('cuda')\n",
    "    print(f\"Using CUDA device: {device}\")\n",
    "else:\n",
    "    device = torch.device('cpu')\n",
    "    print(f\"Using CPU device: {device}\")\n",
    "\n",
    "print(f\"PyTorch version: {torch.__version__}\")\n",
    "print(f\"Device: {device}\")"
   ]
  },
  {
   "cell_type": "markdown",
   "metadata": {},
   "source": [
    "## 1. Load and Preprocess Data"
   ]
  },
  {
   "cell_type": "code",
   "execution_count": 36,
   "metadata": {},
   "outputs": [
    {
     "name": "stdout",
     "output_type": "stream",
     "text": [
      "Data type of is_gaming_related column: bool\n",
      "Unique values in is_gaming_related column: [ True False]\n",
      "Training set size: 3500\n",
      "Validation set size: 500\n",
      "Test set size: 1000\n"
     ]
    }
   ],
   "source": [
    "data_path = '../datasets/gaming_intent_dataset.csv'\n",
    "test_size = 0.2\n",
    "val_size = 0.1\n",
    "\n",
    "data_splits = load_and_preprocess_data(\n",
    "    data_path,\n",
    "    test_size=test_size,\n",
    "    val_size=val_size,\n",
    "    random_state=SEED\n",
    ")\n",
    "\n",
    "print(f\"Training set size: {len(data_splits['train'][0])}\")\n",
    "print(f\"Validation set size: {len(data_splits['val'][0])}\")\n",
    "print(f\"Test set size: {len(data_splits['test'][0])}\")"
   ]
  },
  {
   "cell_type": "code",
   "execution_count": 37,
   "metadata": {},
   "outputs": [
    {
     "name": "stdout",
     "output_type": "stream",
     "text": [
      "Train set:\n",
      "Gaming: 3063 (87.51%)\n",
      "Non-gaming: 437 (12.49%\n",
      "Val set:\n",
      "Gaming: 437 (87.40%)\n",
      "Non-gaming: 63 (12.60%\n",
      "Test set:\n",
      "Gaming: 875 (87.50%)\n",
      "Non-gaming: 125 (12.50%\n"
     ]
    }
   ],
   "source": [
    "# Check class distribution in each split\n",
    "for split_name, (_, labels) in data_splits.items():\n",
    "    labels_np = np.array(labels)\n",
    "    gaming_count = np.sum(labels_np == 1)\n",
    "    non_gaming_count = np.sum(labels_np == 0)\n",
    "    total_count = len(labels_np)\n",
    "\n",
    "    print(f\"{split_name.capitalize()} set:\")\n",
    "    print(f\"Gaming: {gaming_count} ({gaming_count/total_count*100:.2f}%)\")\n",
    "    print(f\"Non-gaming: {non_gaming_count} ({non_gaming_count/total_count*100:.2f}%\")   "
   ]
  },
  {
   "cell_type": "code",
   "execution_count": 38,
   "metadata": {},
   "outputs": [
    {
     "name": "stdout",
     "output_type": "stream",
     "text": [
      "Class weights: tensor([4.0046, 0.5713])\n"
     ]
    }
   ],
   "source": [
    "# Initialize tokenizer\n",
    "tokenizer = DistilBertTokenizer.from_pretrained('distilbert-base-uncased')\n",
    "\n",
    "# Create data loaders with optimized batch size for M3 Pro\n",
    "# Increased batch size for better utilization of M3 Pro's memory\n",
    "batch_size = 32\n",
    "max_length = 128\n",
    "\n",
    "# Set num_workers for DataLoader to utilize M3 Pro's multiple cores\n",
    "num_workers = os.cpu_count()\n",
    "\n",
    "data_loaders = create_data_loaders(\n",
    "    data_splits,\n",
    "    tokenizer,\n",
    "    batch_size=batch_size,\n",
    "    max_length=max_length,\n",
    "    num_workers=num_workers \n",
    ")\n",
    "\n",
    "# Calculate class weights for imbalanced dataset\n",
    "class_weights = get_class_weights(data_splits['train'][1])\n",
    "print(f\"Class weights: {class_weights}\")\n",
    "\n",
    "if isinstance(class_weights, torch.Tensor):\n",
    "    # If class_weights is already a tensor, clone and detach it\n",
    "    class_weights_tensor = class_weights.clone().detach().to(device)\n",
    "else:\n",
    "    # If class_weights is a list, numpy array, or other non-tensor type\n",
    "    class_weights_tensor = torch.FloatTensor(class_weights).to(device)"
   ]
  },
  {
   "cell_type": "markdown",
   "metadata": {},
   "source": [
    "## 2. Define Model Architecture"
   ]
  },
  {
   "cell_type": "code",
   "execution_count": 39,
   "metadata": {},
   "outputs": [
    {
     "name": "stdout",
     "output_type": "stream",
     "text": [
      "GamingIntentClassifier(\n",
      "  (distilbert): DistilBertModel(\n",
      "    (embeddings): Embeddings(\n",
      "      (word_embeddings): Embedding(30522, 768, padding_idx=0)\n",
      "      (position_embeddings): Embedding(512, 768)\n",
      "      (LayerNorm): LayerNorm((768,), eps=1e-12, elementwise_affine=True)\n",
      "      (dropout): Dropout(p=0.1, inplace=False)\n",
      "    )\n",
      "    (transformer): Transformer(\n",
      "      (layer): ModuleList(\n",
      "        (0-5): 6 x TransformerBlock(\n",
      "          (attention): DistilBertSdpaAttention(\n",
      "            (dropout): Dropout(p=0.1, inplace=False)\n",
      "            (q_lin): Linear(in_features=768, out_features=768, bias=True)\n",
      "            (k_lin): Linear(in_features=768, out_features=768, bias=True)\n",
      "            (v_lin): Linear(in_features=768, out_features=768, bias=True)\n",
      "            (out_lin): Linear(in_features=768, out_features=768, bias=True)\n",
      "          )\n",
      "          (sa_layer_norm): LayerNorm((768,), eps=1e-12, elementwise_affine=True)\n",
      "          (ffn): FFN(\n",
      "            (dropout): Dropout(p=0.1, inplace=False)\n",
      "            (lin1): Linear(in_features=768, out_features=3072, bias=True)\n",
      "            (lin2): Linear(in_features=3072, out_features=768, bias=True)\n",
      "            (activation): GELUActivation()\n",
      "          )\n",
      "          (output_layer_norm): LayerNorm((768,), eps=1e-12, elementwise_affine=True)\n",
      "        )\n",
      "      )\n",
      "    )\n",
      "  )\n",
      "  (classifier): Sequential(\n",
      "    (0): Linear(in_features=768, out_features=768, bias=True)\n",
      "    (1): ReLU()\n",
      "    (2): Dropout(p=0.1, inplace=False)\n",
      "    (3): Linear(in_features=768, out_features=2, bias=True)\n",
      "  )\n",
      ")\n"
     ]
    }
   ],
   "source": [
    "model = initialize_model(\n",
    "    device,\n",
    "    num_classes=2,\n",
    "    dropout_rate=0.1,\n",
    "    pretrained_model_name='distilbert-base-uncased'\n",
    ")\n",
    "\n",
    "print(model)"
   ]
  },
  {
   "cell_type": "markdown",
   "metadata": {},
   "source": [
    "## 3. Train the Model"
   ]
  },
  {
   "cell_type": "code",
   "execution_count": 18,
   "metadata": {},
   "outputs": [
    {
     "name": "stdout",
     "output_type": "stream",
     "text": [
      "\n",
      "Epoch 1/5\n"
     ]
    },
    {
     "name": "stderr",
     "output_type": "stream",
     "text": [
      "Training: 100%|██████████| 110/110 [02:28<00:00,  1.35s/it, loss=0.00348]\n",
      "Evaluating: 100%|██████████| 16/16 [01:26<00:00,  5.39s/it]\n"
     ]
    },
    {
     "name": "stdout",
     "output_type": "stream",
     "text": [
      "Train Loss: 0.1257\n",
      "Val Loss: 0.0024, Accuracy: 1.0000, Precision: 1.0000, Recall: 1.0000, F1: 1.0000, AUC: 1.0000\n",
      "Saved best model with F1: 1.0000\n",
      "\n",
      "Epoch 2/5\n"
     ]
    },
    {
     "name": "stderr",
     "output_type": "stream",
     "text": [
      "Training: 100%|██████████| 110/110 [02:12<00:00,  1.20s/it, loss=0.00115]\n",
      "Evaluating: 100%|██████████| 16/16 [01:25<00:00,  5.37s/it]\n"
     ]
    },
    {
     "name": "stdout",
     "output_type": "stream",
     "text": [
      "Train Loss: 0.0020\n",
      "Val Loss: 0.0009, Accuracy: 1.0000, Precision: 1.0000, Recall: 1.0000, F1: 1.0000, AUC: 1.0000\n",
      "\n",
      "Epoch 3/5\n"
     ]
    },
    {
     "name": "stderr",
     "output_type": "stream",
     "text": [
      "Training: 100%|██████████| 110/110 [02:11<00:00,  1.20s/it, loss=0.000695]\n",
      "Evaluating: 100%|██████████| 16/16 [01:27<00:00,  5.48s/it]\n"
     ]
    },
    {
     "name": "stdout",
     "output_type": "stream",
     "text": [
      "Train Loss: 0.0009\n",
      "Val Loss: 0.0005, Accuracy: 1.0000, Precision: 1.0000, Recall: 1.0000, F1: 1.0000, AUC: 1.0000\n",
      "\n",
      "Epoch 4/5\n"
     ]
    },
    {
     "name": "stderr",
     "output_type": "stream",
     "text": [
      "Training: 100%|██████████| 110/110 [02:10<00:00,  1.18s/it, loss=0.000584]\n",
      "Evaluating: 100%|██████████| 16/16 [01:26<00:00,  5.38s/it]"
     ]
    },
    {
     "name": "stdout",
     "output_type": "stream",
     "text": [
      "Train Loss: 0.0006\n",
      "Val Loss: 0.0004, Accuracy: 1.0000, Precision: 1.0000, Recall: 1.0000, F1: 1.0000, AUC: 1.0000\n",
      "Early stopping after 4 epochs\n"
     ]
    },
    {
     "name": "stderr",
     "output_type": "stream",
     "text": [
      "\n"
     ]
    }
   ],
   "source": [
    "# Set training parameters\n",
    "num_epochs = 5\n",
    "learning_rate = 2e-5\n",
    "warmup_steps = 0\n",
    "output_dir = '../output'\n",
    "os.makedirs(output_dir, exist_ok=True)\n",
    "\n",
    "# Enable mixed precision training for better performance on M3 Pro\n",
    "# Note: For MPS backend, check if mixed precision is supported in the PyTorch version\n",
    "use_mixed_precision = device.type == 'cuda'  # Only enable for CUDA for now\n",
    "\n",
    "# Check if train_model supports use_mixed_precision parameter\n",
    "train_model_params = inspect.signature(train_model).parameters\n",
    "\n",
    "if 'use_mixed_precision' in train_model_params:\n",
    "    # If supported, use it\n",
    "    history = train_model(\n",
    "        model,\n",
    "        data_loaders['train'],\n",
    "        data_loaders['val'],\n",
    "        num_epochs=num_epochs,\n",
    "        learning_rate=learning_rate,\n",
    "        device=device,\n",
    "        class_weights=class_weights_tensor,\n",
    "        warmup_steps=warmup_steps,\n",
    "        output_dir=output_dir,\n",
    "        use_mixed_precision=use_mixed_precision\n",
    "    )\n",
    "\n",
    "else:\n",
    "    # If not supported, use default\n",
    "    history = train_model(\n",
    "        model,\n",
    "        data_loaders['train'],\n",
    "        data_loaders['val'],\n",
    "        num_epochs=num_epochs,\n",
    "        learning_rate=learning_rate,\n",
    "        device=device,\n",
    "        class_weights=class_weights_tensor,\n",
    "        warmup_steps=warmup_steps,\n",
    "        output_dir=output_dir\n",
    "    )"
   ]
  },
  {
   "cell_type": "code",
   "execution_count": 40,
   "metadata": {},
   "outputs": [],
   "source": [
    "plot_training_history(history, output_dir=output_dir)"
   ]
  },
  {
   "cell_type": "markdown",
   "metadata": {},
   "source": [
    "## 4. Evaluate the Model"
   ]
  },
  {
   "cell_type": "code",
   "execution_count": 41,
   "metadata": {},
   "outputs": [
    {
     "name": "stdout",
     "output_type": "stream",
     "text": [
      "Loaded model from epoch 1 with validation F1: 1.0000\n"
     ]
    }
   ],
   "source": [
    "# Load best model for evaluation\n",
    "checkpoint = torch.load(os.path.join(output_dir, 'best_model.pt'), map_location=device, weights_only=False)\n",
    "model.load_state_dict(checkpoint['model_state_dict'])\n",
    "print(f\"Loaded model from epoch {checkpoint['epoch']+1} with validation F1: {checkpoint['val_f1']:.4f}\")"
   ]
  },
  {
   "cell_type": "code",
   "execution_count": 42,
   "metadata": {},
   "outputs": [
    {
     "name": "stderr",
     "output_type": "stream",
     "text": [
      "Evaluating: 100%|██████████| 32/32 [01:46<00:00,  3.32s/it]"
     ]
    },
    {
     "name": "stdout",
     "output_type": "stream",
     "text": [
      "Test Loss: 0.0693\n",
      "Test Accuracy: 1.0000\n",
      "Test Precision: 1.0000\n",
      "Test Recall: 1.0000\n",
      "Test F1: 1.0000\n",
      "Test AUC: 1.0000\n"
     ]
    },
    {
     "name": "stderr",
     "output_type": "stream",
     "text": [
      "\n"
     ]
    }
   ],
   "source": [
    "# Evaluate on test set\n",
    "criterion = nn.CrossEntropyLoss(weight=class_weights_tensor)\n",
    "test_loss, test_accuracy, test_precision, test_recall, test_f1, test_auc = evaluate(\n",
    "    model, data_loaders['test'], criterion, device\n",
    ")\n",
    "\n",
    "print(f\"Test Loss: {test_loss:.4f}\")\n",
    "print(f\"Test Accuracy: {test_accuracy:.4f}\")\n",
    "print(f\"Test Precision: {test_precision:.4f}\")\n",
    "print(f\"Test Recall: {test_recall:.4f}\")\n",
    "print(f\"Test F1: {test_f1:.4f}\")\n",
    "print(f\"Test AUC: {test_auc:.4f}\")"
   ]
  },
  {
   "cell_type": "code",
   "execution_count": null,
   "metadata": {},
   "outputs": [],
   "source": [
    "plot_confusion_matrix(model, data_loaders['test'], device, output_dir=output_dir)"
   ]
  },
  {
   "cell_type": "markdown",
   "metadata": {},
   "source": [
    "## 5. Error Analysis"
   ]
  },
  {
   "cell_type": "code",
   "execution_count": 24,
   "metadata": {},
   "outputs": [],
   "source": [
    "# Function to get predictions and actual labels\n",
    "def get_predictions(model, data_loader, device):\n",
    "    model.eval()\n",
    "    all_texts = []\n",
    "    all_preds = []\n",
    "    all_labels = []\n",
    "    all_probs = []\n",
    "    \n",
    "    with torch.no_grad():\n",
    "        for batch in tqdm(data_loader, desc=\"Getting predictions\"):\n",
    "            # Get batch data\n",
    "            input_ids = batch['input_ids'].to(device)\n",
    "            attention_mask = batch['attention_mask'].to(device)\n",
    "            labels = batch['labels'].to(device)\n",
    "            \n",
    "            # Forward pass\n",
    "            outputs = model(input_ids=input_ids, attention_mask=attention_mask)\n",
    "            \n",
    "            # Get predictions\n",
    "            probs = torch.softmax(outputs, dim=1)\n",
    "            preds = torch.argmax(outputs, dim=1)\n",
    "            \n",
    "            # Move to CPU\n",
    "            preds = preds.cpu().numpy()\n",
    "            labels = labels.cpu().numpy()\n",
    "            probs = probs.cpu().numpy()\n",
    "            \n",
    "            # Add to list\n",
    "            all_preds.extend(preds)\n",
    "            all_labels.extend(labels)\n",
    "            all_probs.extend(probs)\n",
    "            \n",
    "            # Get original texts\n",
    "            for i in range(len(preds)):\n",
    "                # Decode tokens\n",
    "                tokens = input_ids[i].cpu().numpy()\n",
    "                # Remove padding and special tokens\n",
    "                tokens = tokens[tokens != 0]\n",
    "                tokens = tokens[1:-1]  # Remove [CLS] and [SEP\n",
    "                text = tokenizer.decode(tokens)\n",
    "                all_texts.append(text)\n",
    "\n",
    "    return all_texts, all_preds, all_labels, all_probs"
   ]
  },
  {
   "cell_type": "code",
   "execution_count": 25,
   "metadata": {},
   "outputs": [
    {
     "data": {
      "application/vnd.jupyter.widget-view+json": {
       "model_id": "4fa7abc4d34e43ed8d116bf210de1290",
       "version_major": 2,
       "version_minor": 0
      },
      "text/plain": [
       "Getting predictions:   0%|          | 0/32 [00:00<?, ?it/s]"
      ]
     },
     "metadata": {},
     "output_type": "display_data"
    },
    {
     "data": {
      "text/html": [
       "<div>\n",
       "<style scoped>\n",
       "    .dataframe tbody tr th:only-of-type {\n",
       "        vertical-align: middle;\n",
       "    }\n",
       "\n",
       "    .dataframe tbody tr th {\n",
       "        vertical-align: top;\n",
       "    }\n",
       "\n",
       "    .dataframe thead th {\n",
       "        text-align: right;\n",
       "    }\n",
       "</style>\n",
       "<table border=\"1\" class=\"dataframe\">\n",
       "  <thead>\n",
       "    <tr style=\"text-align: right;\">\n",
       "      <th></th>\n",
       "      <th>text</th>\n",
       "      <th>true_label</th>\n",
       "      <th>predicted_label</th>\n",
       "      <th>prob_non_gaming</th>\n",
       "      <th>prob_gaming</th>\n",
       "      <th>correct</th>\n",
       "    </tr>\n",
       "  </thead>\n",
       "  <tbody>\n",
       "    <tr>\n",
       "      <th>0</th>\n",
       "      <td>game saves for apex legends disappeared after ...</td>\n",
       "      <td>1</td>\n",
       "      <td>1</td>\n",
       "      <td>0.001981</td>\n",
       "      <td>0.998019</td>\n",
       "      <td>True</td>\n",
       "    </tr>\n",
       "    <tr>\n",
       "      <th>1</th>\n",
       "      <td>how many players can play hogwarts legacy online?</td>\n",
       "      <td>1</td>\n",
       "      <td>1</td>\n",
       "      <td>0.001990</td>\n",
       "      <td>0.998010</td>\n",
       "      <td>True</td>\n",
       "    </tr>\n",
       "    <tr>\n",
       "      <th>2</th>\n",
       "      <td>what are the system requirements for fortnite?</td>\n",
       "      <td>1</td>\n",
       "      <td>1</td>\n",
       "      <td>0.002584</td>\n",
       "      <td>0.997416</td>\n",
       "      <td>True</td>\n",
       "    </tr>\n",
       "    <tr>\n",
       "      <th>3</th>\n",
       "      <td>just watched the latest marvel movie and loved...</td>\n",
       "      <td>0</td>\n",
       "      <td>0</td>\n",
       "      <td>0.996699</td>\n",
       "      <td>0.003301</td>\n",
       "      <td>True</td>\n",
       "    </tr>\n",
       "    <tr>\n",
       "      <th>4</th>\n",
       "      <td>how many players can play doom eternal online?</td>\n",
       "      <td>1</td>\n",
       "      <td>1</td>\n",
       "      <td>0.001970</td>\n",
       "      <td>0.998030</td>\n",
       "      <td>True</td>\n",
       "    </tr>\n",
       "  </tbody>\n",
       "</table>\n",
       "</div>"
      ],
      "text/plain": [
       "                                                text  true_label  \\\n",
       "0  game saves for apex legends disappeared after ...           1   \n",
       "1  how many players can play hogwarts legacy online?           1   \n",
       "2     what are the system requirements for fortnite?           1   \n",
       "3  just watched the latest marvel movie and loved...           0   \n",
       "4     how many players can play doom eternal online?           1   \n",
       "\n",
       "   predicted_label  prob_non_gaming  prob_gaming  correct  \n",
       "0                1         0.001981     0.998019     True  \n",
       "1                1         0.001990     0.998010     True  \n",
       "2                1         0.002584     0.997416     True  \n",
       "3                0         0.996699     0.003301     True  \n",
       "4                1         0.001970     0.998030     True  "
      ]
     },
     "execution_count": 25,
     "metadata": {},
     "output_type": "execute_result"
    }
   ],
   "source": [
    "# Get predictions on test set\n",
    "test_texts, test_preds, test_labels, test_probs = get_predictions(model, data_loaders['test'], device)\n",
    "\n",
    "# Create DataFrame with predictions\n",
    "results_df = pd.DataFrame({\n",
    "    'text': test_texts,\n",
    "    'true_label': test_labels,\n",
    "    'predicted_label': test_preds,\n",
    "    'prob_non_gaming': [p[0] for p in test_probs],\n",
    "    'prob_gaming': [p[1] for p in test_probs]\n",
    "    })\n",
    "\n",
    "# Add correct/incorrect column\n",
    "results_df['correct'] = results_df['true_label'] == results_df['predicted_label']\n",
    "results_df.head()"
   ]
  },
  {
   "cell_type": "code",
   "execution_count": 26,
   "metadata": {},
   "outputs": [
    {
     "name": "stdout",
     "output_type": "stream",
     "text": [
      "Total errors: 0\n",
      "False positives: 0\n",
      "False negatives: 0\n"
     ]
    }
   ],
   "source": [
    "errors_df = results_df[~results_df['correct']].copy()\n",
    "print(f\"Total errors: {len(errors_df)}\")\n",
    "\n",
    "# False positives (non-gaming predicted as gaming)\n",
    "false_positives = errors_df[errors_df['true_label'] == 0]\n",
    "print(f\"False positives: {len(false_positives)}\")\n",
    "\n",
    "# False negatives (gaming predicted as non-gaming)\n",
    "false_negatives = errors_df[errors_df['true_label'] == 1]\n",
    "print(f\"False negatives: {len(false_negatives)}\")"
   ]
  },
  {
   "cell_type": "code",
   "execution_count": 27,
   "metadata": {},
   "outputs": [
    {
     "name": "stdout",
     "output_type": "stream",
     "text": [
      "False positives (non-gaming predicted as gaming) with highest confidence:\n"
     ]
    },
    {
     "data": {
      "text/html": [
       "<div>\n",
       "<style scoped>\n",
       "    .dataframe tbody tr th:only-of-type {\n",
       "        vertical-align: middle;\n",
       "    }\n",
       "\n",
       "    .dataframe tbody tr th {\n",
       "        vertical-align: top;\n",
       "    }\n",
       "\n",
       "    .dataframe thead th {\n",
       "        text-align: right;\n",
       "    }\n",
       "</style>\n",
       "<table border=\"1\" class=\"dataframe\">\n",
       "  <thead>\n",
       "    <tr style=\"text-align: right;\">\n",
       "      <th></th>\n",
       "      <th>text</th>\n",
       "      <th>prob_gaming</th>\n",
       "    </tr>\n",
       "  </thead>\n",
       "  <tbody>\n",
       "  </tbody>\n",
       "</table>\n",
       "</div>"
      ],
      "text/plain": [
       "Empty DataFrame\n",
       "Columns: [text, prob_gaming]\n",
       "Index: []"
      ]
     },
     "execution_count": 27,
     "metadata": {},
     "output_type": "execute_result"
    }
   ],
   "source": [
    "print(\"False positives (non-gaming predicted as gaming) with highest confidence:\")\n",
    "false_positives.sort_values('prob_gaming', ascending=False).head(10)[['text', 'prob_gaming']]"
   ]
  },
  {
   "cell_type": "code",
   "execution_count": 28,
   "metadata": {},
   "outputs": [
    {
     "name": "stdout",
     "output_type": "stream",
     "text": [
      "False negatives (gaming predicted as non-gaming) with highest confidence:\n"
     ]
    },
    {
     "data": {
      "text/html": [
       "<div>\n",
       "<style scoped>\n",
       "    .dataframe tbody tr th:only-of-type {\n",
       "        vertical-align: middle;\n",
       "    }\n",
       "\n",
       "    .dataframe tbody tr th {\n",
       "        vertical-align: top;\n",
       "    }\n",
       "\n",
       "    .dataframe thead th {\n",
       "        text-align: right;\n",
       "    }\n",
       "</style>\n",
       "<table border=\"1\" class=\"dataframe\">\n",
       "  <thead>\n",
       "    <tr style=\"text-align: right;\">\n",
       "      <th></th>\n",
       "      <th>text</th>\n",
       "      <th>prob_non_gaming</th>\n",
       "    </tr>\n",
       "  </thead>\n",
       "  <tbody>\n",
       "  </tbody>\n",
       "</table>\n",
       "</div>"
      ],
      "text/plain": [
       "Empty DataFrame\n",
       "Columns: [text, prob_non_gaming]\n",
       "Index: []"
      ]
     },
     "execution_count": 28,
     "metadata": {},
     "output_type": "execute_result"
    }
   ],
   "source": [
    "print(\"False negatives (gaming predicted as non-gaming) with highest confidence:\")\n",
    "false_negatives.sort_values('prob_non_gaming', ascending=False).head(10)[['text', 'prob_non_gaming']]"
   ]
  },
  {
   "cell_type": "code",
   "execution_count": 29,
   "metadata": {},
   "outputs": [
    {
     "data": {
      "image/png": "[encoded data removed]",
      "text/plain": [
       "<Figure size 1200x600 with 2 Axes>"
      ]
     },
     "metadata": {},
     "output_type": "display_data"
    }
   ],
   "source": [
    "# Plot probability distribution for correct and incorrect predictions\n",
    "plt.figure(figsize=(12, 6))\n",
    "\n",
    "# For true gaming examples\n",
    "plt.subplot(1, 2, 1)\n",
    "gaming_correct = results_df[(results_df['true_label'] == 1) & (results_df['correct'])]['prob_gaming']\n",
    "gaming_incorrect = results_df[(results_df['true_label'] == 1) & (~results_df['correct'])]['prob_gaming']\n",
    "plt.hist([gaming_correct, gaming_incorrect], bins=20, alpha=0.7, label=['Correct', 'Incorrect'])\n",
    "plt.title('Probability Distribution for True Gaming Examples')\n",
    "plt.xlabel('Probability of Gaming')\n",
    "plt.ylabel('Count')\n",
    "plt.legend()\n",
    "\n",
    "# For true non-gaming examples\n",
    "plt.subplot(1, 2, 2)\n",
    "non_gaming_correct = results_df[(results_df['true_label'] == 0) & (results_df['correct'])]['prob_non_gaming']\n",
    "non_gaming_incorrect = results_df[(results_df['true_label'] == 0) & (~results_df['correct'])]['prob_non_gaming']\n",
    "plt.hist([non_gaming_correct, non_gaming_incorrect], bins=20, alpha=0.7, label=['Correct', 'Incorrect'])\n",
    "plt.title('Probability Distribution for True Non-Gaming Examples')\n",
    "plt.xlabel('Probability of Non-Gaming')\n",
    "plt.ylabel('Count')\n",
    "plt.legend()\n",
    "\n",
    "plt.tight_layout()\n",
    "plt.show()"
   ]
  },
  {
   "cell_type": "markdown",
   "metadata": {},
   "source": [
    "## 6. Model Inference"
   ]
  },
  {
   "cell_type": "code",
   "execution_count": 30,
   "metadata": {},
   "outputs": [
    {
     "name": "stdout",
     "output_type": "stream",
     "text": [
      "Using specified device: mps\n",
      "Loading model from ../output/best_model.pt...\n",
      "Added NumPy scalar to safe globals\n",
      "Successfully loaded checkpoint with weights_only=False\n",
      "Model loaded successfully from epoch 0\n"
     ]
    }
   ],
   "source": [
    "model_path = os.path.join(output_dir, 'best_model.pt')\n",
    "predictor = GamingIntentPredictor(model_path, device)"
   ]
  },
  {
   "cell_type": "code",
   "execution_count": 31,
   "metadata": {},
   "outputs": [
    {
     "name": "stdout",
     "output_type": "stream",
     "text": [
      "Text: When is the next Elden Ring DLC coming out?\n",
      "Prediction: Gaming-Related\n",
      "Confidence: Gaming: 99.80%, Non-Gaming: 0.20%\n",
      "\n",
      "Text: I need help with the final boss in God of War Ragnarök.\n",
      "Prediction: Gaming-Related\n",
      "Confidence: Gaming: 99.80%, Non-Gaming: 0.20%\n",
      "\n",
      "Text: What's the best graphics card for playing Cyberpunk 2077?\n",
      "Prediction: Gaming-Related\n",
      "Confidence: Gaming: 99.80%, Non-Gaming: 0.20%\n",
      "\n",
      "Text: Can someone recommend a good restaurant in downtown?\n",
      "Prediction: Non-Gaming\n",
      "Confidence: Gaming: 0.25%, Non-Gaming: 99.75%\n",
      "\n",
      "Text: My phone battery drains too quickly, any solutions?\n",
      "Prediction: Non-Gaming\n",
      "Confidence: Gaming: 0.27%, Non-Gaming: 99.73%\n",
      "\n",
      "Text: What's the weather forecast for tomorrow?\n",
      "Prediction: Non-Gaming\n",
      "Confidence: Gaming: 0.24%, Non-Gaming: 99.76%\n",
      "\n"
     ]
    }
   ],
   "source": [
    "# Test with some examples\n",
    "test_examples = [\n",
    "    \"When is the next Elden Ring DLC coming out?\",\n",
    "    \"I need help with the final boss in God of War Ragnarök.\",\n",
    "    \"What's the best graphics card for playing Cyberpunk 2077?\",\n",
    "    \"Can someone recommend a good restaurant in downtown?\",\n",
    "    \"My phone battery drains too quickly, any solutions?\",\n",
    "    \"What's the weather forecast for tomorrow?\",\n",
    "]\n",
    "\n",
    "for text in test_examples:\n",
    "    prediction, probabilities = predictor.predict(text, return_probabilities=True)\n",
    "    label = \"Gaming-Related\" if prediction == 1 else \"Non-Gaming\"\n",
    "    print(f\"Text: {text}\"),\n",
    "    print(f\"Prediction: {label}\"),\n",
    "    print(f\"Confidence: Gaming: {probabilities[1]*100:.2f}%, Non-Gaming: {probabilities[0]*100:.2f}%\"),\n",
    "    print()"
   ]
  },
  {
   "cell_type": "markdown",
   "metadata": {},
   "source": [
    "## 7. Performance Benchmarking for M3 Pro"
   ]
  },
  {
   "cell_type": "code",
   "execution_count": 32,
   "metadata": {},
   "outputs": [
    {
     "name": "stdout",
     "output_type": "stream",
     "text": [
      "Average inference time on mps: 5.53 ms\n"
     ]
    }
   ],
   "source": [
    "def benchmark_inference(predictor, text, num_runs=100):\n",
    "    predictor.predict(text)\n",
    "    \n",
    "    # Benchmark\n",
    "    start_time = time.time()\n",
    "    for _ in range(num_runs):\n",
    "        predictor.predict(text)\n",
    "    end_time = time.time()\n",
    "\n",
    "    avg_time = (end_time - start_time) / num_runs\n",
    "    return avg_time\n",
    "\n",
    "# Run benchmark\n",
    "benchmark_text = \"What's the best strategy for defeatinghe final boss in Elden Ring?\"\n",
    "avg_inference_time = benchmark_inference(predictor, benchmark_text)\n",
    "print(f\"Average inference time on {device}: {avg_inference_time*1000:.2f} ms\")\n",
    " "
   ]
  },
  {
   "cell_type": "markdown",
   "metadata": {},
   "source": [
    "## 8. Conclusion and Next Steps"
   ]
  },
  {
   "cell_type": "markdown",
   "metadata": {
    "vscode": {
     "languageId": "json"
    }
   },
   "source": [
    "### Summary of Results\n",
    "It has been successfully trained a DistilBERT-based model for detecting gaming-related intent in user text inputs. The model achieves good performance on the test set, with high precision, recall, and F1 score.\n",
    "\n",
    "### Key Finding\n",
    "1. **Class Imbalance Handling**: The use of class weights helped address the imbalance between gaming and non-gaming examples.\n",
    "2. **Model Performance**: The model shows strong performance in distinguishing between gaming and non-gaming content\n",
    "3. **Error Analysis**: The model demonstrates exceptional performance on the test dataset, with zero classification errors - no false positives or false negatives were observed. High confidence prediction for both gaming and non-gaming examples are classified with extremely high confidence (probabilities >0.996), indicating the model has learned strong distinguishing features between classes.\n",
    " \n"
   ]
  }
 ],
 "metadata": {
  "language_info": {
   "name": "python"
  }
 },
 "nbformat": 4,
 "nbformat_minor": 2
}
